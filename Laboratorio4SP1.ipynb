{
  "nbformat": 4,
  "nbformat_minor": 0,
  "metadata": {
    "colab": {
      "name": "Laboratorio4SP1.ipynb",
      "provenance": []
    },
    "kernelspec": {
      "name": "python3",
      "display_name": "Python 3"
    },
    "accelerator": "GPU"
  },
  "cells": [
    {
      "cell_type": "markdown",
      "metadata": {
        "id": "fRbmzdRWMsGJ",
        "colab_type": "text"
      },
      "source": [
        "# Imports"
      ]
    },
    {
      "cell_type": "code",
      "metadata": {
        "id": "f-taoOYlMtTn",
        "colab_type": "code",
        "outputId": "ddcb1494-900d-40c8-fc3b-c5c2f7a60b6d",
        "colab": {
          "base_uri": "https://localhost:8080/",
          "height": 34
        }
      },
      "source": [
        "%tensorflow_version 2.x\n",
        "\n",
        "import tensorflow as tf\n",
        "\n",
        "from tensorflow.keras.preprocessing.image import ImageDataGenerator\n",
        "from tensorflow.keras.datasets import cifar10\n",
        "from tensorflow.keras.models import Sequential\n",
        "from tensorflow.keras.layers import Dense, Dropout, Flatten, Conv2D, MaxPooling2D,Activation\n",
        "from tensorflow.keras import backend as back\n",
        "\n",
        "# Podria quitar os\n",
        "import os\n",
        "import numpy as np\n",
        "import PIL.Image as Image\n",
        "import matplotlib.pylab as plt\n",
        "\n",
        "# Colocamos la seed para poder replicar los experimentos más delante\n",
        "seed=1998\n",
        "np.random.seed(seed)\n",
        "tf.random.set_seed(seed)"
      ],
      "execution_count": 1,
      "outputs": [
        {
          "output_type": "stream",
          "text": [
            "TensorFlow 2.x selected.\n"
          ],
          "name": "stdout"
        }
      ]
    },
    {
      "cell_type": "code",
      "metadata": {
        "id": "XX_SzsbcMvyH",
        "colab_type": "code",
        "colab": {}
      },
      "source": [
        "batch_size = 32\n",
        "num_classes = 10\n",
        "epochs = 20\n",
        "data_augmentation = True\n",
        "num_predictions = 20"
      ],
      "execution_count": 0,
      "outputs": []
    },
    {
      "cell_type": "markdown",
      "metadata": {
        "id": "wU3xxeEXM8lJ",
        "colab_type": "text"
      },
      "source": [
        "# Dataset"
      ]
    },
    {
      "cell_type": "code",
      "metadata": {
        "id": "UlLBkmnaM9TX",
        "colab_type": "code",
        "outputId": "4f5ba9a8-7164-4e26-9aa6-0fbafcdce606",
        "colab": {
          "base_uri": "https://localhost:8080/",
          "height": 102
        }
      },
      "source": [
        "(x_train, y_train), (x_test, y_test) = cifar10.load_data()\n",
        "print('x_train shape:', x_train.shape)\n",
        "print(x_train.shape[0], 'train samples')\n",
        "print(x_test.shape[0], 'test samples')"
      ],
      "execution_count": 3,
      "outputs": [
        {
          "output_type": "stream",
          "text": [
            "Downloading data from https://www.cs.toronto.edu/~kriz/cifar-10-python.tar.gz\n",
            "170500096/170498071 [==============================] - 2s 0us/step\n",
            "x_train shape: (50000, 32, 32, 3)\n",
            "50000 train samples\n",
            "10000 test samples\n"
          ],
          "name": "stdout"
        }
      ]
    },
    {
      "cell_type": "code",
      "metadata": {
        "id": "ae_QRwgoM-AR",
        "colab_type": "code",
        "colab": {}
      },
      "source": [
        "y_train = tf.keras.utils.to_categorical(y_train, num_classes)\n",
        "y_test = tf.keras.utils.to_categorical(y_test, num_classes)"
      ],
      "execution_count": 0,
      "outputs": []
    },
    {
      "cell_type": "code",
      "metadata": {
        "id": "pmjRW9swNLPm",
        "colab_type": "code",
        "colab": {}
      },
      "source": [
        ""
      ],
      "execution_count": 0,
      "outputs": []
    },
    {
      "cell_type": "markdown",
      "metadata": {
        "id": "Puri6URaNZDQ",
        "colab_type": "text"
      },
      "source": [
        "# Building the model"
      ]
    },
    {
      "cell_type": "code",
      "metadata": {
        "id": "wy5BBFFWNarG",
        "colab_type": "code",
        "colab": {}
      },
      "source": [
        "model = Sequential([\n",
        "                    Conv2D(32, (3, 3), \n",
        "                           padding='same',\n",
        "                           activation='relu',\n",
        "                           input_shape=x_train.shape[1:]),\n",
        "                    # Activation('relu'),\n",
        "                    Conv2D(32, (3, 3), activation='relu'),\n",
        "                    # Activation('relu'),\n",
        "                    MaxPooling2D(pool_size=(2, 2)),\n",
        "                    Dropout(0.25),\n",
        "                    Conv2D(64, (3, 3), padding='same', activation='relu'),\n",
        "                    # Activation('relu'),\n",
        "                    Conv2D(64, (3, 3), activation='relu'),\n",
        "                    # Activation('relu'),\n",
        "                    MaxPooling2D(pool_size=(2, 2)),\n",
        "                    Dropout(0.25),\n",
        "                    Flatten(),\n",
        "                    Dense(512, activation='relu'),\n",
        "                    # Activation('relu'),\n",
        "                    Dropout(0.5),\n",
        "                    Dense(num_classes, activation='softmax')\n",
        "                    # Activation('softmax')\n",
        "])"
      ],
      "execution_count": 0,
      "outputs": []
    },
    {
      "cell_type": "code",
      "metadata": {
        "id": "pnE11bcxN-pF",
        "colab_type": "code",
        "colab": {}
      },
      "source": [
        "opt = tf.keras.optimizers.RMSprop(learning_rate=0.0001, decay=1e-6)\n",
        "\n",
        "# Let's train the model using RMSprop\n",
        "model.compile(loss='categorical_crossentropy',\n",
        "              optimizer=opt,\n",
        "              metrics=['accuracy'])"
      ],
      "execution_count": 0,
      "outputs": []
    },
    {
      "cell_type": "code",
      "metadata": {
        "id": "hjwqQ9VZOEEU",
        "colab_type": "code",
        "colab": {}
      },
      "source": [
        "x_train = x_train.astype('float32')\n",
        "x_test = x_test.astype('float32')\n",
        "x_train /= 255\n",
        "x_test /= 255"
      ],
      "execution_count": 0,
      "outputs": []
    },
    {
      "cell_type": "code",
      "metadata": {
        "id": "uVR7VFjIOFkE",
        "colab_type": "code",
        "outputId": "16f7f821-c57f-4ff8-e1c6-975925c25101",
        "colab": {
          "base_uri": "https://localhost:8080/",
          "height": 734
        }
      },
      "source": [
        "history = model.fit(x_train, y_train,\n",
        "              batch_size=batch_size,\n",
        "              epochs=epochs,\n",
        "              validation_data=(x_test, y_test),\n",
        "              shuffle=True)"
      ],
      "execution_count": 11,
      "outputs": [
        {
          "output_type": "stream",
          "text": [
            "Train on 50000 samples, validate on 10000 samples\n",
            "Epoch 1/20\n",
            "50000/50000 [==============================] - 10s 208us/sample - loss: 0.7626 - accuracy: 0.7363 - val_loss: 0.7580 - val_accuracy: 0.7387\n",
            "Epoch 2/20\n",
            "50000/50000 [==============================] - 10s 197us/sample - loss: 0.7542 - accuracy: 0.7423 - val_loss: 0.7346 - val_accuracy: 0.7485\n",
            "Epoch 3/20\n",
            "50000/50000 [==============================] - 10s 197us/sample - loss: 0.7441 - accuracy: 0.7447 - val_loss: 0.7196 - val_accuracy: 0.7531\n",
            "Epoch 4/20\n",
            "50000/50000 [==============================] - 10s 197us/sample - loss: 0.7404 - accuracy: 0.7476 - val_loss: 0.7555 - val_accuracy: 0.7398\n",
            "Epoch 5/20\n",
            "50000/50000 [==============================] - 10s 197us/sample - loss: 0.7267 - accuracy: 0.7510 - val_loss: 0.7167 - val_accuracy: 0.7594\n",
            "Epoch 6/20\n",
            "50000/50000 [==============================] - 10s 198us/sample - loss: 0.7285 - accuracy: 0.7500 - val_loss: 0.7138 - val_accuracy: 0.7579\n",
            "Epoch 7/20\n",
            "50000/50000 [==============================] - 10s 202us/sample - loss: 0.7212 - accuracy: 0.7539 - val_loss: 0.7153 - val_accuracy: 0.7640\n",
            "Epoch 8/20\n",
            "50000/50000 [==============================] - 10s 198us/sample - loss: 0.7174 - accuracy: 0.7541 - val_loss: 0.6910 - val_accuracy: 0.7663\n",
            "Epoch 9/20\n",
            "50000/50000 [==============================] - 10s 204us/sample - loss: 0.7125 - accuracy: 0.7545 - val_loss: 0.7065 - val_accuracy: 0.7598\n",
            "Epoch 10/20\n",
            "50000/50000 [==============================] - 10s 199us/sample - loss: 0.6982 - accuracy: 0.7626 - val_loss: 0.6804 - val_accuracy: 0.7715\n",
            "Epoch 11/20\n",
            "50000/50000 [==============================] - 10s 204us/sample - loss: 0.6957 - accuracy: 0.7609 - val_loss: 0.7151 - val_accuracy: 0.7596\n",
            "Epoch 12/20\n",
            "50000/50000 [==============================] - 10s 201us/sample - loss: 0.6929 - accuracy: 0.7652 - val_loss: 0.6731 - val_accuracy: 0.7771\n",
            "Epoch 13/20\n",
            "50000/50000 [==============================] - 10s 205us/sample - loss: 0.6910 - accuracy: 0.7640 - val_loss: 0.6743 - val_accuracy: 0.7735\n",
            "Epoch 14/20\n",
            "50000/50000 [==============================] - 10s 200us/sample - loss: 0.6827 - accuracy: 0.7661 - val_loss: 0.6648 - val_accuracy: 0.7745\n",
            "Epoch 15/20\n",
            "50000/50000 [==============================] - 10s 197us/sample - loss: 0.6843 - accuracy: 0.7671 - val_loss: 0.6891 - val_accuracy: 0.7637\n",
            "Epoch 16/20\n",
            "50000/50000 [==============================] - 10s 197us/sample - loss: 0.6774 - accuracy: 0.7685 - val_loss: 0.6781 - val_accuracy: 0.7700\n",
            "Epoch 17/20\n",
            "50000/50000 [==============================] - 10s 202us/sample - loss: 0.6748 - accuracy: 0.7714 - val_loss: 0.6811 - val_accuracy: 0.7715\n",
            "Epoch 18/20\n",
            "50000/50000 [==============================] - 10s 197us/sample - loss: 0.6688 - accuracy: 0.7728 - val_loss: 0.7051 - val_accuracy: 0.7690\n",
            "Epoch 19/20\n",
            "50000/50000 [==============================] - 10s 200us/sample - loss: 0.6705 - accuracy: 0.7730 - val_loss: 0.6795 - val_accuracy: 0.7705\n",
            "Epoch 20/20\n",
            "50000/50000 [==============================] - 10s 199us/sample - loss: 0.6698 - accuracy: 0.7756 - val_loss: 0.6691 - val_accuracy: 0.7735\n"
          ],
          "name": "stdout"
        }
      ]
    },
    {
      "cell_type": "code",
      "metadata": {
        "id": "NT1D48hxOIRU",
        "colab_type": "code",
        "colab": {
          "base_uri": "https://localhost:8080/",
          "height": 621
        },
        "outputId": "28d5288a-a221-4f79-c843-4d5523270c65"
      },
      "source": [
        "acc = history.history['accuracy']\n",
        "val_acc = history.history['val_accuracy']\n",
        "\n",
        "loss = history.history['loss']\n",
        "val_loss = history.history['val_loss']\n",
        "\n",
        "plt.figure(figsize=(10, 10))\n",
        "plt.subplot(2, 1, 1)\n",
        "plt.plot(acc, label='Training Accuracy')\n",
        "plt.plot(val_acc, label='Validation Accuracy')\n",
        "plt.legend(loc='lower right')\n",
        "plt.setp(plt.legend().get_texts(), color='black')\n",
        "plt.ylabel('Accuracy')\n",
        "plt.ylim([min(plt.ylim()),1.0])\n",
        "plt.title('Training and Validation Accuracy')\n",
        "\n",
        "plt.subplot(2, 1, 2)\n",
        "plt.plot(loss, label='Training Loss')\n",
        "plt.plot(val_loss, label='Validation Loss')\n",
        "plt.legend(loc='upper right')\n",
        "plt.setp(plt.legend().get_texts(), color='black')\n",
        "plt.ylabel('Cross Entropy')\n",
        "plt.ylim([0.0,1.0])\n",
        "plt.title('Training and Validation Loss')\n",
        "plt.xlabel('epoch')\n",
        "plt.show()"
      ],
      "execution_count": 12,
      "outputs": [
        {
          "output_type": "display_data",
          "data": {
            "image/png": "[encoded data removed]",
            "text/plain": [
              "<Figure size 720x720 with 2 Axes>"
            ]
          },
          "metadata": {
            "tags": []
          }
        }
      ]
    },
    {
      "cell_type": "code",
      "metadata": {
        "id": "C2_mVMDVzC8X",
        "colab_type": "code",
        "colab": {
          "base_uri": "https://localhost:8080/",
          "height": 51
        },
        "outputId": "de274936-6ed3-435e-a81e-01830b3aaa14"
      },
      "source": [
        "test_loss, test_acc = model.evaluate(x_test, y_test, verbose=3)\n",
        "\n",
        "print('Loss:', test_loss)\n",
        "print('Accuracy:', test_acc)"
      ],
      "execution_count": 16,
      "outputs": [
        {
          "output_type": "stream",
          "text": [
            "Loss: 0.6691274238109589\n",
            "Accuracy: 0.7735\n"
          ],
          "name": "stdout"
        }
      ]
    },
    {
      "cell_type": "code",
      "metadata": {
        "id": "ybQLftg32aYB",
        "colab_type": "code",
        "colab": {}
      },
      "source": [
        ""
      ],
      "execution_count": 0,
      "outputs": []
    }
  ]
}